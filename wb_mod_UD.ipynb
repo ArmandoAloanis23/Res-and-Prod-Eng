{
 "cells": [
  {
   "cell_type": "markdown",
   "metadata": {},
   "source": [
    "### <font color=\"orange\" ><font size=\"4\">Wellbore Two-Phase Flow Simulation in Geothermal System (Up to Down)</font></font>\n",
    "\n",
    "<font size=\"2\">This script tries to conduct simple wellbore simulation in two-phase flow simulate well condition. The two phase flow condition use Homogeneous method. Data used in this calculation is synthetic data. The assumption for this simple calculation is the casing only one means only use one roughness, and one type of casing diameter.\n",
    "\n",
    "The Homogeneous method for calculating the pressure drop in two-phase flow involves applying the Poiseuille flow equation while using calculated variables for the two-phase fluid. These variables include the dynamic viscosity of the two-phase fluid, the density of the two-phase fluid, the Reynolds number for the two-phase fluid, and the friction factor for the two-phase flow.</font>\n"
   ]
  },
  {
   "cell_type": "code",
   "execution_count": 1,
   "metadata": {},
   "outputs": [],
   "source": [
    "# Import Libraries\n",
    "import numpy as np\n",
    "import pandas as pd\n",
    "from scipy.optimize import brentq\n",
    "\n",
    "from pyXSteam.XSteam import XSteam\n",
    "steam_table = XSteam(XSteam.UNIT_SYSTEM_MKS) # Use SI units"
   ]
  },
  {
   "cell_type": "markdown",
   "metadata": {},
   "source": [
    "<font size=\"2\">\n",
    "The equation is shown by following:\n",
    "\n",
    "For two phase density and dynamic viscosity, using the harmonic weighting of liquid and steam properties\n",
    "\n",
    "$$ \\rho_{TP} = \\frac{1}{(\\frac{x}{\\rho_g}+\\frac{(1-x)}{\\rho_l})}$$\n",
    "\n",
    "$$ \\mu_{TP} = x\\mu_g + (1-x)\\mu_l$$\n",
    "\n",
    "For the Reynold number, the calculation used the recent two properties. Where the two phase velocity is also calculated from two phase density\n",
    "\n",
    "$$ Re_{TP}=\\frac{\\rho_{TP} D v_{TP}}{\\mu_{TP}}$$\n",
    "where the velocity\n",
    "$$ v_{TP}=\\frac{\\dot{m_t}}{\\rho_{TP}\\times A}$$\n",
    "\n",
    "\n",
    "The friction factor is calculated using colebrook equation\n",
    "$$ \\frac{1}{\\sqrt{f}} = -2.0 \\log(\\frac{\\frac{\\varepsilon}{D}}{3.7} + \\frac{2.51}{Re\\sqrt{f}}) $$\n",
    "\n",
    "Lastly, the pressure drop is calculated by the friction pressure drop and also by the gravity pressure drop\n",
    "$$ \\frac{\\Delta P_{TP}}{dy}= f\\frac{ \\rho_{TP} \\, v^2_{TP}}{2 \\, D}$$\n",
    "</font>"
   ]
  },
  {
   "cell_type": "code",
   "execution_count": 2,
   "metadata": {},
   "outputs": [],
   "source": [
    "#Defining the function to calculate the pressure drop\n",
    "# Calculation definition\n",
    "def dryness_fraction(pressure, enthalpy):\n",
    "    h_L = steam_table.hL_p(pressure)\n",
    "    h_V = steam_table.hV_p(pressure)\n",
    "    dryness = (enthalpy-h_L)/(h_V - h_L)\n",
    "    return dryness\n",
    "\n",
    "def mix_density(pressure, dryness_frac):\n",
    "    rho_L = steam_table.rhoL_p(pressure)\n",
    "    rho_V = steam_table.rhoV_p(pressure)\n",
    "    rho_mix = 1/((dryness_frac/rho_V)+((1-dryness_frac)/rho_L))\n",
    "    return rho_mix\n",
    "\n",
    "def mix_dyna_visc(pressure, dryness_frac):\n",
    "    mu_L = steam_table.my_ph(pressure, steam_table.hL_p(pressure))\n",
    "    mu_V = steam_table.my_ph(pressure, steam_table.hV_p(pressure))\n",
    "    # mu_mix = 1/((dryness_frac/mu_V)+((1-dryness_frac)/mu_L))\n",
    "    mu_mix = ((dryness_frac*mu_V)+((1-dryness_frac)*mu_L))\n",
    "    return mu_mix\n",
    "\n",
    "def mix_velocity(mass_flow, mix_density, pipe_diam):\n",
    "    velocity_TP = mass_flow/(mix_density*np.pi*(pipe_diam**2)/4)\n",
    "    return velocity_TP\n",
    "\n",
    "def mix_reynold_num(mix_density, pipe_diam, mix_velocity, mix_dyna_visc):\n",
    "    Re_mix = (mix_density*pipe_diam*mix_velocity)/mix_dyna_visc\n",
    "    return Re_mix\n",
    "\n",
    "def colebrook(f, rel_rough, reynolds_num):\n",
    "    return 1/np.sqrt(f) + 2*np.log10(rel_rough/3.7 + 2.51/(reynolds_num*np.sqrt(f)))\n",
    "def solve_colebrook(rel_roughness, reynolds_num):\n",
    "    return brentq(colebrook, 0.005, 0.1, args=(rel_roughness, reynolds_num))\n",
    "\n",
    "def fric_press_drop(fric_factor, diameter, mix_density, mix_velocity):\n",
    "    Delta_P_fric = fric_factor*mix_density*np.power(mix_velocity,2)/(2*diameter)\n",
    "    return Delta_P_fric\n",
    "\n",
    "def grav_press_drop(mix_density, theta):\n",
    "    Delta_P_grav = (mix_density*9.81*np.sin(theta))\n",
    "    return Delta_P_grav"
   ]
  },
  {
   "cell_type": "code",
   "execution_count": null,
   "metadata": {},
   "outputs": [],
   "source": [
    "# The method is Up to Down, use the Well Head Pressure as the initial pressure\n",
    "# Well head pressure\n",
    "Pwh =  13.5 # bar a\n",
    "# Total mass flow rate (measured in the surface)\n",
    "mass_flow = 26 # kg/s \n",
    "# Enthalpy of the two phase fluid\n",
    "enthalpy_mix = 1500 # kJ/kg\n",
    "\n",
    "# Pipe data\n",
    "# How much depth the pipe is going down each iteration\n",
    "depth_increment = 100 # m\n",
    "# Casing length\n",
    "casing_depth = 1500 # m\n",
    "# Casing internal diameter\n",
    "casing_ID = 0.317881 # m \n",
    "# Casing roughnes\n",
    "roughness = 4.57e-5\n",
    "# Casing inclination\n",
    "inclination = 90 # degree means vertical well\n",
    "theta = np.radians(inclination)\n",
    "# relative roughness\n",
    "rel_rough = roughness/casing_ID"
   ]
  },
  {
   "cell_type": "code",
   "execution_count": 4,
   "metadata": {},
   "outputs": [],
   "source": [
    "# Creating Lists for csv file\n",
    "list_depth = np.array([])\n",
    "list_press_in = np.array([])\n",
    "list_press_fin = np.array([])\n",
    "list_dryness = np.array([])\n",
    "list_friction = np.array([])\n",
    "list_gravity = np.array([])"
   ]
  },
  {
   "cell_type": "code",
   "execution_count": 5,
   "metadata": {},
   "outputs": [
    {
     "name": "stdout",
     "output_type": "stream",
     "text": [
      "Pressure at 100 m is 13.812496681302578 bar a\n",
      "Pressure at 200 m is 14.126996728969862 bar a\n",
      "Pressure at 300 m is 14.443691898455887 bar a\n",
      "Pressure at 400 m is 14.762769135613858 bar a\n",
      "Pressure at 500 m is 15.084411437827086 bar a\n",
      "Pressure at 600 m is 15.408798625158951 bar a\n",
      "Pressure at 700 m is 15.73610803585797 bar a\n",
      "Pressure at 800 m is 16.066515158182803 bar a\n",
      "Pressure at 900 m is 16.400194208599334 bar a\n",
      "Pressure at 1000 m is 16.737318664851408 bar a\n",
      "Pressure at 1100 m is 17.07806176114422 bar a\n",
      "Pressure at 1200 m is 17.422596951647613 bar a\n",
      "Pressure at 1300 m is 17.77109834768052 bar a\n",
      "Pressure at 1400 m is 18.12374113324279 bar a\n",
      "Pressure at 1500 m is 18.48070196298867 bar a\n"
     ]
    }
   ],
   "source": [
    "## Pressure drop calculation\n",
    "press_it = Pwh\n",
    "depth = 0 #for iteration\n",
    "# Iteration\n",
    "while True:\n",
    "    list_press_in = np.append(list_press_in, press_it)\n",
    "    \n",
    "    depth += depth_increment\n",
    "    list_depth = np.append(list_depth, depth)\n",
    "    press_it = press_it\n",
    "\n",
    "    #Calculation\n",
    "    x_frac = dryness_fraction(press_it, enthalpy_mix)\n",
    "    rho_mix = mix_density(press_it, x_frac)\n",
    "    mu_mix = mix_dyna_visc(press_it, x_frac)\n",
    "    v_mix = mix_velocity(mass_flow, rho_mix, casing_ID)\n",
    "    Re_mix = mix_reynold_num(rho_mix, casing_ID, v_mix, mu_mix)\n",
    "    frict = solve_colebrook(rel_rough, Re_mix)\n",
    "    dP_fric = fric_press_drop(frict, casing_ID, rho_mix, v_mix)\n",
    "    dP_grav = grav_press_drop(rho_mix, theta)\n",
    "    dP_total = (dP_fric*depth_increment + dP_grav*depth_increment)/1e5\n",
    "    press_it = press_it + dP_total\n",
    "\n",
    "    #Appending the results to the list\n",
    "    list_press_fin = np.append(list_press_fin, press_it)\n",
    "    list_friction = np.append(list_friction, dP_fric)\n",
    "    list_gravity = np.append(list_gravity/10e5, dP_grav)\n",
    "    list_dryness= np.append(list_dryness/10e5, x_frac)\n",
    "    print(f\"Pressure at {depth} m is {press_it} bar a\")\n",
    "\n",
    "    if depth >= casing_depth:\n",
    "        break\n",
    "    else:\n",
    "        continue"
   ]
  },
  {
   "cell_type": "code",
   "execution_count": null,
   "metadata": {},
   "outputs": [
    {
     "name": "stdout",
     "output_type": "stream",
     "text": [
      "Successfully write the .csv file\n"
     ]
    }
   ],
   "source": [
    "# Saving output to CSV\n",
    "data_dict = {\n",
    "    'Column1': list_depth,\n",
    "    'Column2': list_press_in,\n",
    "    'Column3': list_dryness,\n",
    "    'Column4': list_friction,\n",
    "    'Column5': list_gravity,\n",
    "    'Column6': list_press_fin,\n",
    "}\n",
    "df = pd.DataFrame(data_dict)\n",
    "df.columns = ['Depth (m)','Pressure initial (bar a)','Dryness', 'dP due friction (Pa/m)', 'dP due gravity (Pa/m)', 'Pressure (bar a)']\n",
    "df.to_csv('simple_wellbore_modelling.csv')\n",
    "\n",
    "print(\"Successfully write the .csv file\")"
   ]
  },
  {
   "cell_type": "markdown",
   "metadata": {},
   "source": [
    "<font size=\"2\">Based on the wellbore two-phase flow model, when parameters such as the depth of the casing (1500 m), the internal casing diameter (0.317881 m), the wellhead pressure (Pwh, 13.5 bar a), and the mass flow rate (26 kg/s) are given, it shows that the flowing bottomhole pressure (Pwf) is 18.4807 bar a.  </font>"
   ]
  }
 ],
 "metadata": {
  "kernelspec": {
   "display_name": "Python 3",
   "language": "python",
   "name": "python3"
  },
  "language_info": {
   "codemirror_mode": {
    "name": "ipython",
    "version": 3
   },
   "file_extension": ".py",
   "mimetype": "text/x-python",
   "name": "python",
   "nbconvert_exporter": "python",
   "pygments_lexer": "ipython3",
   "version": "3.11.3"
  }
 },
 "nbformat": 4,
 "nbformat_minor": 2
}
